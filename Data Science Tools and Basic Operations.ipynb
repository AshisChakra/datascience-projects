{
 "cells": [
  {
   "cell_type": "code",
   "execution_count": null,
   "id": "1af1852c-b91f-41c6-bf2c-f8c85d6d266b",
   "metadata": {},
   "outputs": [],
   "source": []
  },
  {
   "cell_type": "markdown",
   "id": "7e72ce2b-47ae-42bc-9db2-e841e29773e8",
   "metadata": {},
   "source": [
    "# Data Science Final Project"
   ]
  },
  {
   "cell_type": "markdown",
   "id": "e347558d-d919-4f7d-884f-c68709f969c6",
   "metadata": {},
   "source": [
    "This notebook introduces key data science languages, libraries, tools, and basic arithmetic operations."
   ]
  },
  {
   "cell_type": "markdown",
   "id": "63ca2da3-d199-47ff-8df4-6fa4694935cb",
   "metadata": {},
   "source": [
    "- Python  \n",
    "- R  \n",
    "- SQL  \n",
    "- Julia  "
   ]
  },
  {
   "cell_type": "markdown",
   "id": "ccd45b0f-e39c-4a02-9ac9-c8c0b833a5fc",
   "metadata": {},
   "source": [
    "- Pandas  \n",
    "- NumPy  \n",
    "- Scikit-learn  \n",
    "- TensorFlow  "
   ]
  },
  {
   "cell_type": "markdown",
   "id": "d9fe5f55-f58d-40f3-918b-b5d2a5d63d6a",
   "metadata": {},
   "source": [
    "| Tool          | Use Case                |  \n",
    "|---------------|-------------------------|  \n",
    "| Jupyter       | Interactive coding      |  \n",
    "| GitHub        | Version control         |  \n",
    "| Tableau       | Data visualization      |  "
   ]
  },
  {
   "cell_type": "markdown",
   "id": "77168a54-bbfb-4fea-9080-29d481ed351c",
   "metadata": {},
   "source": [
    "Examples of arithmetic operations:  \n",
    "- Addition: \\(5 + 3 = 8\\)  \n",
    "- Multiplication: \\(4 \\times 2 = 8\\)  "
   ]
  },
  {
   "cell_type": "code",
   "execution_count": 4,
   "id": "ada76398-ca00-49eb-9dd5-1e5ca5de9d20",
   "metadata": {},
   "outputs": [
    {
     "name": "stdout",
     "output_type": "stream",
     "text": [
      "17\n"
     ]
    }
   ],
   "source": [
    "# Calculate (3 * 4) + 5  \n",
    "result = (3 * 4) + 5  \n",
    "print(result)  # Output: 17  "
   ]
  },
  {
   "cell_type": "code",
   "execution_count": 5,
   "id": "78ee2791-d3d8-4f11-b0e8-ce6428d799c4",
   "metadata": {},
   "outputs": [
    {
     "name": "stdout",
     "output_type": "stream",
     "text": [
      "150 minutes = 2.5 hours\n"
     ]
    }
   ],
   "source": [
    "# Convert 150 minutes to hours  \n",
    "minutes = 150  \n",
    "hours = minutes / 60  \n",
    "print(f\"{minutes} minutes = {hours} hours\")  # Output: 2.5 hours  "
   ]
  },
  {
   "cell_type": "markdown",
   "id": "c079e468-35eb-4036-adc6-82c42cdd12f6",
   "metadata": {},
   "source": [
    "**Objectives**:  \n",
    "- Identify key data science languages.  \n",
    "- Explore popular libraries and tools.  \n",
    "- Demonstrate basic arithmetic operations.  "
   ]
  },
  {
   "cell_type": "markdown",
   "id": "fdb623ad-2442-4798-a6c8-c89643f4d2f3",
   "metadata": {},
   "source": [
    "**Author**: Jane Doe  "
   ]
  },
  {
   "cell_type": "code",
   "execution_count": null,
   "id": "06893402-9495-41b0-8fb0-d441d525718d",
   "metadata": {},
   "outputs": [],
   "source": []
  }
 ],
 "metadata": {
  "kernelspec": {
   "display_name": "Python 3 (ipykernel)",
   "language": "python",
   "name": "python3"
  },
  "language_info": {
   "codemirror_mode": {
    "name": "ipython",
    "version": 3
   },
   "file_extension": ".py",
   "mimetype": "text/x-python",
   "name": "python",
   "nbconvert_exporter": "python",
   "pygments_lexer": "ipython3",
   "version": "3.13.1"
  }
 },
 "nbformat": 4,
 "nbformat_minor": 5
}
